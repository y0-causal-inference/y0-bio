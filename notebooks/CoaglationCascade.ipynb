{
 "cells": [
  {
   "cell_type": "markdown",
   "metadata": {},
   "source": [
    "# Coagulation cascade"
   ]
  },
  {
   "cell_type": "code",
   "execution_count": 16,
   "metadata": {},
   "outputs": [
    {
     "name": "stdout",
     "output_type": "stream",
     "text": [
      "3e+12\n"
     ]
    }
   ],
   "source": [
    "print(f'{3e12:g}')"
   ]
  },
  {
   "cell_type": "code",
   "execution_count": 15,
   "metadata": {},
   "outputs": [
    {
     "name": "stdout",
     "output_type": "stream",
     "text": [
      "1.024e+13\n"
     ]
    }
   ],
   "source": [
    "print(f'{20**10:g}')"
   ]
  },
  {
   "cell_type": "code",
   "execution_count": 1,
   "metadata": {},
   "outputs": [
    {
     "name": "stderr",
     "output_type": "stream",
     "text": [
      "Processing OWL elements: 100%|██████████| 2299/2299 [00:00<00:00, 11719.89it/s]\n",
      "INFO: [2021-03-08 11:55:25] indra.ontology.bio.ontology - Loading INDRA bio ontology from cache at /Users/zuck016/.indra/bio_ontology/1.7/bio_ontology.pkl\n"
     ]
    },
    {
     "name": "stdout",
     "output_type": "stream",
     "text": [
      "[Conversion(calcium(2+)(), [F7(bound: calcium(2+)), F7(bound: calcium(2+))], [F7(bound: calcium(2+), Tissue factor)]), Conversion(F7(), [Factor X heavy chain(bound: Factor X light chain)], [Factor X heavy chain(bound: Factor X light chain), Activated factor Xa heavy chain(bound: calcium(2+), Factor X light chain)]), Conversion(Tissue factor(mods: (palmitoylation, C, 277)), [Factor X heavy chain(bound: Factor X light chain)], [Factor X heavy chain(bound: Factor X light chain), Activated factor Xa heavy chain(bound: calcium(2+), Factor X light chain)]), Conversion(Activated factor Xa heavy chain(), [F7(bound: calcium(2+))], [Factor VII heavy chain(bound: Factor VII light chain, calcium(2+))]), Conversion(Factor X light chain(), [F7(bound: calcium(2+))], [Factor VII heavy chain(bound: Factor VII light chain, calcium(2+))]), Conversion(calcium(2+)(), [Factor VII heavy chain(bound: Factor VII light chain, calcium(2+)), Factor VII heavy chain(bound: Factor VII light chain, calcium(2+))], [Factor VII light chain(bound: calcium(2+), Factor VII heavy chain, Tissue factor)]), Conversion(Tissue factor(mods: (palmitoylation, C, 277)), [Factor X heavy chain(bound: Factor X light chain), Factor X heavy chain(bound: Factor X light chain)], [Factor X heavy chain(bound: Factor X light chain), Activated factor Xa heavy chain(bound: calcium(2+), Factor X light chain)]), Conversion(Tissue factor(mods: (palmitoylation, C, 277)), [Activated factor Xa heavy chain(bound: calcium(2+), Factor X light chain)], [Activated factor Xa heavy chain(bound: calcium(2+), Factor X light chain), Coagulation factor IXa heavy chain(bound: Coagulation factor IXa light chain)]), Conversion(calcium(2+)(), [Coagulation factor IXa heavy chain(bound: Coagulation factor IXa light chain)], [Coagulation factor IXa heavy chain(bound: Coagulation factor IXa light chain), Coagulation factor IXa heavy chain(bound: Coagulation factor IXa light chain)]), Conversion(zinc(2+)(), [Complement component 1 Q subcomponent-binding protein, mitochondrial(), Complement component 1 Q subcomponent-binding protein, mitochondrial()], [Kininogen-1(bound: Complement component 1 Q subcomponent-binding protein, mitochondrial)]), Conversion(Lysosomal Pro-X carboxypeptidase(), [Kininogen-1(bound: Complement component 1 Q subcomponent-binding protein, mitochondrial, KLKB1)], [Kininogen-1(bound: Complement component 1 Q subcomponent-binding protein, mitochondrial, Plasma kallikrein heavy chain, Plasma kallikrein light chain)]), Conversion(Kininogen-1(), [Kininogen-1(bound: Complement component 1 Q subcomponent-binding protein, mitochondrial, Plasma kallikrein heavy chain, Plasma kallikrein light chain)], [Coagulation factor XIIa light chain(bound: Coagulation factor XIIa heavy chain)]), Conversion(Coagulation factor XIIa light chain(), [F11(bound: Platelet glycoprotein IX, Platelet glycoprotein V, GP1BA, GP1BB)], [Coagulation factor XIa heavy chain(bound: Coagulation factor XIa light chain, Platelet glycoprotein IX, Platelet glycoprotein V, GP1BA, GP1BB)]), Conversion(Coagulation factor XIIa heavy chain(), [F11(bound: Platelet glycoprotein IX, Platelet glycoprotein V, GP1BA, GP1BB)], [Coagulation factor XIa heavy chain(bound: Coagulation factor XIa light chain, Platelet glycoprotein IX, Platelet glycoprotein V, GP1BA, GP1BB)]), Conversion(Thrombin heavy chain(), [F11(bound: Platelet glycoprotein IX, Platelet glycoprotein V, GP1BA, GP1BB)], [Coagulation factor XIa heavy chain(bound: Coagulation factor XIa light chain, Platelet glycoprotein IX, Platelet glycoprotein V, GP1BA, GP1BB)]), Conversion(Thrombin light chain(), [F11(bound: Platelet glycoprotein IX, Platelet glycoprotein V, GP1BA, GP1BB)], [Coagulation factor XIa heavy chain(bound: Coagulation factor XIa light chain, Platelet glycoprotein IX, Platelet glycoprotein V, GP1BA, GP1BB)]), Conversion(activated thrombin (factor IIa):SERPIND1(), [F11(bound: Platelet glycoprotein IX, Platelet glycoprotein V, GP1BA, GP1BB)], [Coagulation factor XIa heavy chain(bound: Coagulation factor XIa light chain, Platelet glycoprotein IX, Platelet glycoprotein V, GP1BA, GP1BB)]), Conversion(thrombin:cleaved SERPINC1(), [F11(bound: Platelet glycoprotein IX, Platelet glycoprotein V, GP1BA, GP1BB)], [Coagulation factor XIa heavy chain(bound: Coagulation factor XIa light chain, Platelet glycoprotein IX, Platelet glycoprotein V, GP1BA, GP1BB)]), Conversion(SERPINA5:Activated protein C(), [F11(bound: Platelet glycoprotein IX, Platelet glycoprotein V, GP1BA, GP1BB)], [Coagulation factor XIa heavy chain(bound: Coagulation factor XIa light chain, Platelet glycoprotein IX, Platelet glycoprotein V, GP1BA, GP1BB)]), Conversion(Factor IIa inhibitors (compounds):IIa(), [F11(bound: Platelet glycoprotein IX, Platelet glycoprotein V, GP1BA, GP1BB)], [Coagulation factor XIa heavy chain(bound: Coagulation factor XIa light chain, Platelet glycoprotein IX, Platelet glycoprotein V, GP1BA, GP1BB)]), Conversion(Factor IIa inhibitors (peptide):IIa(), [F11(bound: Platelet glycoprotein IX, Platelet glycoprotein V, GP1BA, GP1BB)], [Coagulation factor XIa heavy chain(bound: Coagulation factor XIa light chain, Platelet glycoprotein IX, Platelet glycoprotein V, GP1BA, GP1BB)]), Conversion(calcium(2+)(), [Coagulation factor XIa heavy chain(bound: Coagulation factor XIa light chain, Platelet glycoprotein IX, Platelet glycoprotein V, GP1BA, GP1BB)], [Coagulation factor XIa heavy chain(bound: Coagulation factor XIa light chain, Platelet glycoprotein IX, Platelet glycoprotein V, GP1BA, GP1BB), Coagulation factor IXa heavy chain(bound: Coagulation factor IXa light chain)]), Conversion(Thrombin heavy chain(), [Factor VIIIa heavy chain, 92 kDa isoform(bound: Factor VIIIa light chain, von Willebrand factor)], [von Willebrand factor(), von Willebrand factor(), F8(bound: F8, F8)]), Conversion(Thrombin light chain(), [Factor VIIIa heavy chain, 92 kDa isoform(bound: Factor VIIIa light chain, von Willebrand factor)], [von Willebrand factor(), von Willebrand factor(), F8(bound: F8, F8)]), Conversion(activated thrombin (factor IIa):SERPIND1(), [Factor VIIIa heavy chain, 92 kDa isoform(bound: Factor VIIIa light chain, von Willebrand factor)], [von Willebrand factor(), von Willebrand factor(), F8(bound: F8, F8)]), Conversion(thrombin:cleaved SERPINC1(), [Factor VIIIa heavy chain, 92 kDa isoform(bound: Factor VIIIa light chain, von Willebrand factor)], [von Willebrand factor(), von Willebrand factor(), F8(bound: F8, F8)]), Conversion(SERPINA5:Activated protein C(), [Factor VIIIa heavy chain, 92 kDa isoform(bound: Factor VIIIa light chain, von Willebrand factor)], [von Willebrand factor(), von Willebrand factor(), F8(bound: F8, F8)]), Conversion(Factor IIa inhibitors (compounds):IIa(), [Factor VIIIa heavy chain, 92 kDa isoform(bound: Factor VIIIa light chain, von Willebrand factor)], [von Willebrand factor(), von Willebrand factor(), F8(bound: F8, F8)]), Conversion(Factor IIa inhibitors (peptide):IIa(), [Factor VIIIa heavy chain, 92 kDa isoform(bound: Factor VIIIa light chain, von Willebrand factor)], [von Willebrand factor(), von Willebrand factor(), F8(bound: F8, F8)]), Conversion(calcium(2+)(), [F8(bound: F8, F8), Coagulation factor IXa light chain(bound: Coagulation factor IXa heavy chain)], [F8(bound: F8, F8, Coagulation factor IXa light chain, Coagulation factor IXa heavy chain)]), Conversion(Vitamin K-dependent protein S(), [Factor X heavy chain(bound: Factor X light chain), Factor X heavy chain(bound: Factor X light chain)], [Factor X heavy chain(bound: Factor X light chain), Activated factor Xa heavy chain(bound: calcium(2+), Factor X light chain)]), Conversion(Activated factor Xa heavy chain(), [Activated factor Xa heavy chain(bound: calcium(2+), Factor X light chain)], [Activated factor Xa heavy chain(bound: calcium(2+), Factor X light chain), Thrombin heavy chain(bound: Thrombin light chain, calcium(2+))]), Conversion(Factor X light chain(), [Thrombin heavy chain(bound: Thrombin light chain, calcium(2+))], [Thrombin heavy chain(bound: Thrombin light chain, calcium(2+)), Thrombin heavy chain(bound: Thrombin light chain, calcium(2+))]), Conversion(Thrombin heavy chain(), [Thrombin heavy chain(bound: Thrombin light chain, calcium(2+))], [Coagulation factor V heavy chain(bound: Coagulation factor V light chain, calcium(2+)), Coagulation factor V heavy chain(bound: Coagulation factor V light chain, calcium(2+))]), Conversion(Thrombin light chain(), [Coagulation factor V heavy chain(bound: Coagulation factor V light chain, calcium(2+))], [Coagulation factor V heavy chain(bound: Coagulation factor V light chain, calcium(2+)), Coagulation factor V heavy chain(bound: Coagulation factor V light chain, calcium(2+))]), Conversion(activated thrombin (factor IIa):SERPIND1(), [Coagulation factor V heavy chain(bound: Coagulation factor V light chain, calcium(2+))], [Coagulation factor V heavy chain(bound: Coagulation factor V light chain, calcium(2+)), Coagulation factor V heavy chain(bound: Coagulation factor V light chain, calcium(2+))]), Conversion(thrombin:cleaved SERPINC1(), [Coagulation factor V heavy chain(bound: Coagulation factor V light chain, calcium(2+))], [Coagulation factor V heavy chain(bound: Coagulation factor V light chain, calcium(2+)), Coagulation factor V heavy chain(bound: Coagulation factor V light chain, calcium(2+))]), Conversion(SERPINA5:Activated protein C(), [Coagulation factor V heavy chain(bound: Coagulation factor V light chain, calcium(2+))], [Coagulation factor V heavy chain(bound: Coagulation factor V light chain, calcium(2+)), Coagulation factor V heavy chain(bound: Coagulation factor V light chain, calcium(2+))]), Conversion(Thrombin heavy chain(), [FGB(bound: FGA, Fibrinogen gamma chain)], [Fibrinogen beta chain(bound: Fibrinogen alpha chain, Fibrinogen gamma chain), Fibrinogen beta chain(bound: Fibrinogen alpha chain, Fibrinogen gamma chain), Fibrinogen beta chain(bound: Fibrinogen alpha chain, Fibrinogen gamma chain)]), Conversion(Thrombin light chain(), [FGB(bound: FGA, Fibrinogen gamma chain)], [Fibrinogen beta chain(bound: Fibrinogen alpha chain, Fibrinogen gamma chain), Fibrinogen beta chain(bound: Fibrinogen alpha chain, Fibrinogen gamma chain), Fibrinogen beta chain(bound: Fibrinogen alpha chain, Fibrinogen gamma chain)]), Conversion(activated thrombin (factor IIa):SERPIND1(), [FGB(bound: FGA, Fibrinogen gamma chain)], [Fibrinogen beta chain(bound: Fibrinogen alpha chain, Fibrinogen gamma chain), Fibrinogen beta chain(bound: Fibrinogen alpha chain, Fibrinogen gamma chain), Fibrinogen beta chain(bound: Fibrinogen alpha chain, Fibrinogen gamma chain)]), Conversion(thrombin:cleaved SERPINC1(), [FGB(bound: FGA, Fibrinogen gamma chain)], [Fibrinogen beta chain(bound: Fibrinogen alpha chain, Fibrinogen gamma chain), Fibrinogen beta chain(bound: Fibrinogen alpha chain, Fibrinogen gamma chain), Fibrinogen beta chain(bound: Fibrinogen alpha chain, Fibrinogen gamma chain)]), Conversion(SERPINA5:Activated protein C(), [FGB(bound: FGA, Fibrinogen gamma chain)], [Fibrinogen beta chain(bound: Fibrinogen alpha chain, Fibrinogen gamma chain), Fibrinogen beta chain(bound: Fibrinogen alpha chain, Fibrinogen gamma chain), Fibrinogen beta chain(bound: Fibrinogen alpha chain, Fibrinogen gamma chain)]), Conversion(Factor IIa inhibitors (compounds):IIa(), [FGB(bound: FGA, Fibrinogen gamma chain)], [Fibrinogen beta chain(bound: Fibrinogen alpha chain, Fibrinogen gamma chain), Fibrinogen beta chain(bound: Fibrinogen alpha chain, Fibrinogen gamma chain), Fibrinogen beta chain(bound: Fibrinogen alpha chain, Fibrinogen gamma chain)]), Conversion(Factor IIa inhibitors (peptide):IIa(), [FGB(bound: FGA, Fibrinogen gamma chain)], [Fibrinogen beta chain(bound: Fibrinogen alpha chain, Fibrinogen gamma chain), Fibrinogen beta chain(bound: Fibrinogen alpha chain, Fibrinogen gamma chain), Fibrinogen beta chain(bound: Fibrinogen alpha chain, Fibrinogen gamma chain)]), Conversion(Thrombin heavy chain(), [F13A1(bound: Coagulation factor XIII B chain)], [F13A1(bound: Coagulation factor XIII B chain), F13A1(bound: Coagulation factor XIII B chain)]), Conversion(Thrombin light chain(), [F13A1(bound: Coagulation factor XIII B chain)], [F13A1(bound: Coagulation factor XIII B chain), F13A1(bound: Coagulation factor XIII B chain)]), Conversion(activated thrombin (factor IIa):SERPIND1(), [F13A1(bound: Coagulation factor XIII B chain)], [F13A1(bound: Coagulation factor XIII B chain), F13A1(bound: Coagulation factor XIII B chain)]), Conversion(thrombin:cleaved SERPINC1(), [F13A1(bound: Coagulation factor XIII B chain)], [F13A1(bound: Coagulation factor XIII B chain), F13A1(bound: Coagulation factor XIII B chain)]), Conversion(SERPINA5:Activated protein C(), [F13A1(bound: Coagulation factor XIII B chain)], [F13A1(bound: Coagulation factor XIII B chain), F13A1(bound: Coagulation factor XIII B chain)]), Conversion(Factor IIa inhibitors (compounds):IIa(), [F13A1(bound: Coagulation factor XIII B chain)], [F13A1(bound: Coagulation factor XIII B chain), F13A1(bound: Coagulation factor XIII B chain)]), Conversion(Factor IIa inhibitors (peptide):IIa(), [F13A1(bound: Coagulation factor XIII B chain)], [F13A1(bound: Coagulation factor XIII B chain), F13A1(bound: Coagulation factor XIII B chain)]), Conversion(F13A1(), [Fibrinogen beta chain(bound: Fibrinogen alpha chain, Fibrinogen gamma chain)], [Fibrinogen beta chain(bound: Fibrinogen alpha chain, Fibrinogen gamma chain), Fibrinogen beta chain(bound: Fibrinogen alpha chain, Fibrinogen gamma chain)]), Conversion(Antithrombin-III(), [Antithrombin-III(bound: Thrombin heavy chain, calcium(2+), Thrombin light chain, dalteparin)], [SERPINC1(bound: SERPINC1, Thrombin heavy chain, calcium(2+), Thrombin light chain, dalteparin)]), Conversion(PROCR(), [SERPINC1(bound: SERPINC1, Thrombin heavy chain, calcium(2+), Thrombin light chain, dalteparin), Vitamin K-dependent protein C light chain(bound: Vitamin K-dependent protein C heavy chain)], [Endothelial protein C receptor(bound: Vitamin K-dependent protein C light chain, Vitamin K-dependent protein C heavy chain)]), Conversion(Thrombomodulin(), [Endothelial protein C receptor(bound: Vitamin K-dependent protein C light chain, Vitamin K-dependent protein C heavy chain)], [Endothelial protein C receptor(bound: Vitamin K-dependent protein C light chain, calcium(2+), PROC), Endothelial protein C receptor(bound: Vitamin K-dependent protein C light chain, calcium(2+), PROC)]), Conversion(Platelet factor 4(), [Endothelial protein C receptor(bound: Vitamin K-dependent protein C light chain, Vitamin K-dependent protein C heavy chain)], [Endothelial protein C receptor(bound: Vitamin K-dependent protein C light chain, calcium(2+), PROC), Endothelial protein C receptor(bound: Vitamin K-dependent protein C light chain, calcium(2+), PROC)]), Conversion(Platelet factor 4 variant(), [Endothelial protein C receptor(bound: Vitamin K-dependent protein C light chain, Vitamin K-dependent protein C heavy chain)], [Endothelial protein C receptor(bound: Vitamin K-dependent protein C light chain, calcium(2+), PROC), Endothelial protein C receptor(bound: Vitamin K-dependent protein C light chain, calcium(2+), PROC)]), Conversion(Vitamin K-dependent protein S(), [Coagulation factor V heavy chain(bound: Coagulation factor V light chain, calcium(2+))], [Coagulation factor V light chain(bound: F5), Coagulation factor V light chain(bound: F5)]), Conversion(Vitamin K-dependent protein S(), [Coagulation factor V light chain(bound: F5)], [Coagulation factor V light chain(bound: F5), Coagulation factor V light chain(bound: F5)]), Conversion(Vitamin K-dependent protein S(), [F8(bound: F8, F8)], [F8(bound: F8, F8), F8(bound: F8, F8), F8(bound: F8, F8)]), Conversion(Coagulation factor V(), [F8(bound: F8, F8)], [F8(bound: F8, F8), F8(bound: F8, F8), F8(bound: F8, F8)]), Conversion(glycosaminoglycan(), [Thrombin heavy chain(bound: Thrombin light chain, calcium(2+)), Thrombin heavy chain(bound: Thrombin light chain, calcium(2+))], [Thrombin heavy chain(bound: Thrombin light chain, calcium(2+), Heparin cofactor 2)]), Conversion(glycosaminoglycan(), [Thrombin heavy chain(bound: Thrombin light chain, calcium(2+), Heparin cofactor 2), Vitamin K-dependent protein C light chain(bound: calcium(2+), PROC)], [Plasma serine protease inhibitor(bound: Vitamin K-dependent protein C light chain, calcium(2+), PROC)])]\n"
     ]
    }
   ],
   "source": [
    "from indra.sources import biopax\n",
    "bp = biopax.process_owl('../data/reactome.coagulation-cascade.biopax.xml')\n",
    "bp.get_protein_conversions()\n",
    "print(bp.statements)"
   ]
  },
  {
   "cell_type": "code",
   "execution_count": 2,
   "metadata": {},
   "outputs": [
    {
     "name": "stderr",
     "output_type": "stream",
     "text": [
      "INFO: [2021-03-08 11:56:07] pybel.config - no configuration found, using default sqlite connection sqlite:////Users/zuck016/.pybel/pybel_0.14.0_cache.db\n"
     ]
    }
   ],
   "source": [
    "import indra, pybel, requests, pybiopax\n",
    "from indra.sources.biopax.api import process_owl, process_model\n",
    "from indra.sources.biopax.processor import get_modification_type\n",
    "import pybiopax.biopax as bp"
   ]
  },
  {
   "cell_type": "code",
   "execution_count": 2,
   "metadata": {},
   "outputs": [
    {
     "name": "stdout",
     "output_type": "stream",
     "text": [
      "total 2720\n",
      "drwxr-xr-x  2 zuck016  PNL\\Domain Users       64 Feb  9 18:23 \u001b[34memmaa\u001b[m\u001b[m\n",
      "-rw-r--r--@ 1 zuck016  PNL\\Domain Users  1254335 Feb  8 14:09 reactome.coagulation-cascade.biopax.xml\n",
      "-rw-r--r--  1 zuck016  PNL\\Domain Users   133232 Feb 12 12:32 reactome.coagulation-cascade.biopax.zip\n"
     ]
    }
   ],
   "source": [
    "!ls -l ../data"
   ]
  },
  {
   "cell_type": "code",
   "execution_count": 3,
   "metadata": {},
   "outputs": [
    {
     "name": "stderr",
     "output_type": "stream",
     "text": [
      "Processing OWL elements: 100%|██████████| 2299/2299 [00:00<00:00, 11165.13it/s]\n"
     ]
    }
   ],
   "source": [
    "coagulation_cascade = process_owl('../data/reactome.coagulation-cascade.biopax.xml')"
   ]
  },
  {
   "cell_type": "code",
   "execution_count": 4,
   "metadata": {},
   "outputs": [
    {
     "data": {
      "text/plain": [
       "[Conversion(calcium(2+)(), [F7(bound: calcium(2+)), F7(bound: calcium(2+))], [F7(bound: calcium(2+), Tissue factor)]),\n",
       " Conversion(F7(), [Factor X heavy chain(bound: Factor X light chain)], [Factor X heavy chain(bound: Factor X light chain), Activated factor Xa heavy chain(bound: calcium(2+), Factor X light chain)]),\n",
       " Conversion(Tissue factor(mods: (palmitoylation, C, 277)), [Factor X heavy chain(bound: Factor X light chain)], [Factor X heavy chain(bound: Factor X light chain), Activated factor Xa heavy chain(bound: calcium(2+), Factor X light chain)]),\n",
       " Conversion(Activated factor Xa heavy chain(), [F7(bound: calcium(2+))], [Factor VII heavy chain(bound: Factor VII light chain, calcium(2+))]),\n",
       " Conversion(Factor X light chain(), [F7(bound: calcium(2+))], [Factor VII heavy chain(bound: Factor VII light chain, calcium(2+))]),\n",
       " Conversion(calcium(2+)(), [Factor VII heavy chain(bound: Factor VII light chain, calcium(2+)), Factor VII heavy chain(bound: Factor VII light chain, calcium(2+))], [Factor VII light chain(bound: calcium(2+), Factor VII heavy chain, Tissue factor)]),\n",
       " Conversion(Tissue factor(mods: (palmitoylation, C, 277)), [Factor X heavy chain(bound: Factor X light chain), Factor X heavy chain(bound: Factor X light chain)], [Factor X heavy chain(bound: Factor X light chain), Activated factor Xa heavy chain(bound: calcium(2+), Factor X light chain)]),\n",
       " Conversion(Tissue factor(mods: (palmitoylation, C, 277)), [Activated factor Xa heavy chain(bound: calcium(2+), Factor X light chain)], [Activated factor Xa heavy chain(bound: calcium(2+), Factor X light chain), Coagulation factor IXa heavy chain(bound: Coagulation factor IXa light chain)]),\n",
       " Conversion(calcium(2+)(), [Coagulation factor IXa heavy chain(bound: Coagulation factor IXa light chain)], [Coagulation factor IXa heavy chain(bound: Coagulation factor IXa light chain), Coagulation factor IXa heavy chain(bound: Coagulation factor IXa light chain)]),\n",
       " Conversion(zinc(2+)(), [Complement component 1 Q subcomponent-binding protein, mitochondrial(), Complement component 1 Q subcomponent-binding protein, mitochondrial()], [Kininogen-1(bound: Complement component 1 Q subcomponent-binding protein, mitochondrial)]),\n",
       " Conversion(Lysosomal Pro-X carboxypeptidase(), [Kininogen-1(bound: Complement component 1 Q subcomponent-binding protein, mitochondrial, KLKB1)], [Kininogen-1(bound: Complement component 1 Q subcomponent-binding protein, mitochondrial, Plasma kallikrein heavy chain, Plasma kallikrein light chain)]),\n",
       " Conversion(Kininogen-1(), [Kininogen-1(bound: Complement component 1 Q subcomponent-binding protein, mitochondrial, Plasma kallikrein heavy chain, Plasma kallikrein light chain)], [Coagulation factor XIIa light chain(bound: Coagulation factor XIIa heavy chain)]),\n",
       " Conversion(Coagulation factor XIIa light chain(), [F11(bound: Platelet glycoprotein IX, Platelet glycoprotein V, GP1BA, GP1BB)], [Coagulation factor XIa heavy chain(bound: Coagulation factor XIa light chain, Platelet glycoprotein IX, Platelet glycoprotein V, GP1BA, GP1BB)]),\n",
       " Conversion(Coagulation factor XIIa heavy chain(), [F11(bound: Platelet glycoprotein IX, Platelet glycoprotein V, GP1BA, GP1BB)], [Coagulation factor XIa heavy chain(bound: Coagulation factor XIa light chain, Platelet glycoprotein IX, Platelet glycoprotein V, GP1BA, GP1BB)]),\n",
       " Conversion(Thrombin heavy chain(), [F11(bound: Platelet glycoprotein IX, Platelet glycoprotein V, GP1BA, GP1BB)], [Coagulation factor XIa heavy chain(bound: Coagulation factor XIa light chain, Platelet glycoprotein IX, Platelet glycoprotein V, GP1BA, GP1BB)]),\n",
       " Conversion(Thrombin light chain(), [F11(bound: Platelet glycoprotein IX, Platelet glycoprotein V, GP1BA, GP1BB)], [Coagulation factor XIa heavy chain(bound: Coagulation factor XIa light chain, Platelet glycoprotein IX, Platelet glycoprotein V, GP1BA, GP1BB)]),\n",
       " Conversion(activated thrombin (factor IIa):SERPIND1(), [F11(bound: Platelet glycoprotein IX, Platelet glycoprotein V, GP1BA, GP1BB)], [Coagulation factor XIa heavy chain(bound: Coagulation factor XIa light chain, Platelet glycoprotein IX, Platelet glycoprotein V, GP1BA, GP1BB)]),\n",
       " Conversion(thrombin:cleaved SERPINC1(), [F11(bound: Platelet glycoprotein IX, Platelet glycoprotein V, GP1BA, GP1BB)], [Coagulation factor XIa heavy chain(bound: Coagulation factor XIa light chain, Platelet glycoprotein IX, Platelet glycoprotein V, GP1BA, GP1BB)]),\n",
       " Conversion(SERPINA5:Activated protein C(), [F11(bound: Platelet glycoprotein IX, Platelet glycoprotein V, GP1BA, GP1BB)], [Coagulation factor XIa heavy chain(bound: Coagulation factor XIa light chain, Platelet glycoprotein IX, Platelet glycoprotein V, GP1BA, GP1BB)]),\n",
       " Conversion(Factor IIa inhibitors (compounds):IIa(), [F11(bound: Platelet glycoprotein IX, Platelet glycoprotein V, GP1BA, GP1BB)], [Coagulation factor XIa heavy chain(bound: Coagulation factor XIa light chain, Platelet glycoprotein IX, Platelet glycoprotein V, GP1BA, GP1BB)]),\n",
       " Conversion(Factor IIa inhibitors (peptide):IIa(), [F11(bound: Platelet glycoprotein IX, Platelet glycoprotein V, GP1BA, GP1BB)], [Coagulation factor XIa heavy chain(bound: Coagulation factor XIa light chain, Platelet glycoprotein IX, Platelet glycoprotein V, GP1BA, GP1BB)]),\n",
       " Conversion(calcium(2+)(), [Coagulation factor XIa heavy chain(bound: Coagulation factor XIa light chain, Platelet glycoprotein IX, Platelet glycoprotein V, GP1BA, GP1BB)], [Coagulation factor XIa heavy chain(bound: Coagulation factor XIa light chain, Platelet glycoprotein IX, Platelet glycoprotein V, GP1BA, GP1BB), Coagulation factor IXa heavy chain(bound: Coagulation factor IXa light chain)]),\n",
       " Conversion(Thrombin heavy chain(), [Factor VIIIa heavy chain, 92 kDa isoform(bound: Factor VIIIa light chain, von Willebrand factor)], [von Willebrand factor(), von Willebrand factor(), F8(bound: F8, F8)]),\n",
       " Conversion(Thrombin light chain(), [Factor VIIIa heavy chain, 92 kDa isoform(bound: Factor VIIIa light chain, von Willebrand factor)], [von Willebrand factor(), von Willebrand factor(), F8(bound: F8, F8)]),\n",
       " Conversion(activated thrombin (factor IIa):SERPIND1(), [Factor VIIIa heavy chain, 92 kDa isoform(bound: Factor VIIIa light chain, von Willebrand factor)], [von Willebrand factor(), von Willebrand factor(), F8(bound: F8, F8)]),\n",
       " Conversion(thrombin:cleaved SERPINC1(), [Factor VIIIa heavy chain, 92 kDa isoform(bound: Factor VIIIa light chain, von Willebrand factor)], [von Willebrand factor(), von Willebrand factor(), F8(bound: F8, F8)]),\n",
       " Conversion(SERPINA5:Activated protein C(), [Factor VIIIa heavy chain, 92 kDa isoform(bound: Factor VIIIa light chain, von Willebrand factor)], [von Willebrand factor(), von Willebrand factor(), F8(bound: F8, F8)]),\n",
       " Conversion(Factor IIa inhibitors (compounds):IIa(), [Factor VIIIa heavy chain, 92 kDa isoform(bound: Factor VIIIa light chain, von Willebrand factor)], [von Willebrand factor(), von Willebrand factor(), F8(bound: F8, F8)]),\n",
       " Conversion(Factor IIa inhibitors (peptide):IIa(), [Factor VIIIa heavy chain, 92 kDa isoform(bound: Factor VIIIa light chain, von Willebrand factor)], [von Willebrand factor(), von Willebrand factor(), F8(bound: F8, F8)]),\n",
       " Conversion(calcium(2+)(), [F8(bound: F8, F8), Coagulation factor IXa light chain(bound: Coagulation factor IXa heavy chain)], [F8(bound: F8, F8, Coagulation factor IXa light chain, Coagulation factor IXa heavy chain)]),\n",
       " Conversion(Vitamin K-dependent protein S(), [Factor X heavy chain(bound: Factor X light chain), Factor X heavy chain(bound: Factor X light chain)], [Factor X heavy chain(bound: Factor X light chain), Activated factor Xa heavy chain(bound: calcium(2+), Factor X light chain)]),\n",
       " Conversion(Activated factor Xa heavy chain(), [Activated factor Xa heavy chain(bound: calcium(2+), Factor X light chain)], [Activated factor Xa heavy chain(bound: calcium(2+), Factor X light chain), Thrombin heavy chain(bound: Thrombin light chain, calcium(2+))]),\n",
       " Conversion(Factor X light chain(), [Thrombin heavy chain(bound: Thrombin light chain, calcium(2+))], [Thrombin heavy chain(bound: Thrombin light chain, calcium(2+)), Thrombin heavy chain(bound: Thrombin light chain, calcium(2+))]),\n",
       " Conversion(Thrombin heavy chain(), [Thrombin heavy chain(bound: Thrombin light chain, calcium(2+))], [Coagulation factor V heavy chain(bound: Coagulation factor V light chain, calcium(2+)), Coagulation factor V heavy chain(bound: Coagulation factor V light chain, calcium(2+))]),\n",
       " Conversion(Thrombin light chain(), [Coagulation factor V heavy chain(bound: Coagulation factor V light chain, calcium(2+))], [Coagulation factor V heavy chain(bound: Coagulation factor V light chain, calcium(2+)), Coagulation factor V heavy chain(bound: Coagulation factor V light chain, calcium(2+))]),\n",
       " Conversion(activated thrombin (factor IIa):SERPIND1(), [Coagulation factor V heavy chain(bound: Coagulation factor V light chain, calcium(2+))], [Coagulation factor V heavy chain(bound: Coagulation factor V light chain, calcium(2+)), Coagulation factor V heavy chain(bound: Coagulation factor V light chain, calcium(2+))]),\n",
       " Conversion(thrombin:cleaved SERPINC1(), [Coagulation factor V heavy chain(bound: Coagulation factor V light chain, calcium(2+))], [Coagulation factor V heavy chain(bound: Coagulation factor V light chain, calcium(2+)), Coagulation factor V heavy chain(bound: Coagulation factor V light chain, calcium(2+))]),\n",
       " Conversion(SERPINA5:Activated protein C(), [Coagulation factor V heavy chain(bound: Coagulation factor V light chain, calcium(2+))], [Coagulation factor V heavy chain(bound: Coagulation factor V light chain, calcium(2+)), Coagulation factor V heavy chain(bound: Coagulation factor V light chain, calcium(2+))]),\n",
       " Conversion(Thrombin heavy chain(), [FGB(bound: FGA, Fibrinogen gamma chain)], [Fibrinogen beta chain(bound: Fibrinogen alpha chain, Fibrinogen gamma chain), Fibrinogen beta chain(bound: Fibrinogen alpha chain, Fibrinogen gamma chain), Fibrinogen beta chain(bound: Fibrinogen alpha chain, Fibrinogen gamma chain)]),\n",
       " Conversion(Thrombin light chain(), [FGB(bound: FGA, Fibrinogen gamma chain)], [Fibrinogen beta chain(bound: Fibrinogen alpha chain, Fibrinogen gamma chain), Fibrinogen beta chain(bound: Fibrinogen alpha chain, Fibrinogen gamma chain), Fibrinogen beta chain(bound: Fibrinogen alpha chain, Fibrinogen gamma chain)]),\n",
       " Conversion(activated thrombin (factor IIa):SERPIND1(), [FGB(bound: FGA, Fibrinogen gamma chain)], [Fibrinogen beta chain(bound: Fibrinogen alpha chain, Fibrinogen gamma chain), Fibrinogen beta chain(bound: Fibrinogen alpha chain, Fibrinogen gamma chain), Fibrinogen beta chain(bound: Fibrinogen alpha chain, Fibrinogen gamma chain)]),\n",
       " Conversion(thrombin:cleaved SERPINC1(), [FGB(bound: FGA, Fibrinogen gamma chain)], [Fibrinogen beta chain(bound: Fibrinogen alpha chain, Fibrinogen gamma chain), Fibrinogen beta chain(bound: Fibrinogen alpha chain, Fibrinogen gamma chain), Fibrinogen beta chain(bound: Fibrinogen alpha chain, Fibrinogen gamma chain)]),\n",
       " Conversion(SERPINA5:Activated protein C(), [FGB(bound: FGA, Fibrinogen gamma chain)], [Fibrinogen beta chain(bound: Fibrinogen alpha chain, Fibrinogen gamma chain), Fibrinogen beta chain(bound: Fibrinogen alpha chain, Fibrinogen gamma chain), Fibrinogen beta chain(bound: Fibrinogen alpha chain, Fibrinogen gamma chain)]),\n",
       " Conversion(Factor IIa inhibitors (compounds):IIa(), [FGB(bound: FGA, Fibrinogen gamma chain)], [Fibrinogen beta chain(bound: Fibrinogen alpha chain, Fibrinogen gamma chain), Fibrinogen beta chain(bound: Fibrinogen alpha chain, Fibrinogen gamma chain), Fibrinogen beta chain(bound: Fibrinogen alpha chain, Fibrinogen gamma chain)]),\n",
       " Conversion(Factor IIa inhibitors (peptide):IIa(), [FGB(bound: FGA, Fibrinogen gamma chain)], [Fibrinogen beta chain(bound: Fibrinogen alpha chain, Fibrinogen gamma chain), Fibrinogen beta chain(bound: Fibrinogen alpha chain, Fibrinogen gamma chain), Fibrinogen beta chain(bound: Fibrinogen alpha chain, Fibrinogen gamma chain)]),\n",
       " Conversion(Thrombin heavy chain(), [F13A1(bound: Coagulation factor XIII B chain)], [F13A1(bound: Coagulation factor XIII B chain), F13A1(bound: Coagulation factor XIII B chain)]),\n",
       " Conversion(Thrombin light chain(), [F13A1(bound: Coagulation factor XIII B chain)], [F13A1(bound: Coagulation factor XIII B chain), F13A1(bound: Coagulation factor XIII B chain)]),\n",
       " Conversion(activated thrombin (factor IIa):SERPIND1(), [F13A1(bound: Coagulation factor XIII B chain)], [F13A1(bound: Coagulation factor XIII B chain), F13A1(bound: Coagulation factor XIII B chain)]),\n",
       " Conversion(thrombin:cleaved SERPINC1(), [F13A1(bound: Coagulation factor XIII B chain)], [F13A1(bound: Coagulation factor XIII B chain), F13A1(bound: Coagulation factor XIII B chain)]),\n",
       " Conversion(SERPINA5:Activated protein C(), [F13A1(bound: Coagulation factor XIII B chain)], [F13A1(bound: Coagulation factor XIII B chain), F13A1(bound: Coagulation factor XIII B chain)]),\n",
       " Conversion(Factor IIa inhibitors (compounds):IIa(), [F13A1(bound: Coagulation factor XIII B chain)], [F13A1(bound: Coagulation factor XIII B chain), F13A1(bound: Coagulation factor XIII B chain)]),\n",
       " Conversion(Factor IIa inhibitors (peptide):IIa(), [F13A1(bound: Coagulation factor XIII B chain)], [F13A1(bound: Coagulation factor XIII B chain), F13A1(bound: Coagulation factor XIII B chain)]),\n",
       " Conversion(F13A1(), [Fibrinogen beta chain(bound: Fibrinogen alpha chain, Fibrinogen gamma chain)], [Fibrinogen beta chain(bound: Fibrinogen alpha chain, Fibrinogen gamma chain), Fibrinogen beta chain(bound: Fibrinogen alpha chain, Fibrinogen gamma chain)]),\n",
       " Conversion(Antithrombin-III(), [Antithrombin-III(bound: Thrombin heavy chain, calcium(2+), Thrombin light chain, dalteparin)], [SERPINC1(bound: SERPINC1, Thrombin heavy chain, calcium(2+), Thrombin light chain, dalteparin)]),\n",
       " Conversion(PROCR(), [SERPINC1(bound: SERPINC1, Thrombin heavy chain, calcium(2+), Thrombin light chain, dalteparin), Vitamin K-dependent protein C light chain(bound: Vitamin K-dependent protein C heavy chain)], [Endothelial protein C receptor(bound: Vitamin K-dependent protein C light chain, Vitamin K-dependent protein C heavy chain)]),\n",
       " Conversion(Thrombomodulin(), [Endothelial protein C receptor(bound: Vitamin K-dependent protein C light chain, Vitamin K-dependent protein C heavy chain)], [Endothelial protein C receptor(bound: Vitamin K-dependent protein C light chain, calcium(2+), PROC), Endothelial protein C receptor(bound: Vitamin K-dependent protein C light chain, calcium(2+), PROC)]),\n",
       " Conversion(Platelet factor 4(), [Endothelial protein C receptor(bound: Vitamin K-dependent protein C light chain, Vitamin K-dependent protein C heavy chain)], [Endothelial protein C receptor(bound: Vitamin K-dependent protein C light chain, calcium(2+), PROC), Endothelial protein C receptor(bound: Vitamin K-dependent protein C light chain, calcium(2+), PROC)]),\n",
       " Conversion(Platelet factor 4 variant(), [Endothelial protein C receptor(bound: Vitamin K-dependent protein C light chain, Vitamin K-dependent protein C heavy chain)], [Endothelial protein C receptor(bound: Vitamin K-dependent protein C light chain, calcium(2+), PROC), Endothelial protein C receptor(bound: Vitamin K-dependent protein C light chain, calcium(2+), PROC)]),\n",
       " Conversion(Vitamin K-dependent protein S(), [Coagulation factor V heavy chain(bound: Coagulation factor V light chain, calcium(2+))], [Coagulation factor V light chain(bound: F5), Coagulation factor V light chain(bound: F5)]),\n",
       " Conversion(Vitamin K-dependent protein S(), [Coagulation factor V light chain(bound: F5)], [Coagulation factor V light chain(bound: F5), Coagulation factor V light chain(bound: F5)]),\n",
       " Conversion(Vitamin K-dependent protein S(), [F8(bound: F8, F8)], [F8(bound: F8, F8), F8(bound: F8, F8), F8(bound: F8, F8)]),\n",
       " Conversion(Coagulation factor V(), [F8(bound: F8, F8)], [F8(bound: F8, F8), F8(bound: F8, F8), F8(bound: F8, F8)]),\n",
       " Conversion(glycosaminoglycan(), [Thrombin heavy chain(bound: Thrombin light chain, calcium(2+)), Thrombin heavy chain(bound: Thrombin light chain, calcium(2+))], [Thrombin heavy chain(bound: Thrombin light chain, calcium(2+), Heparin cofactor 2)]),\n",
       " Conversion(glycosaminoglycan(), [Thrombin heavy chain(bound: Thrombin light chain, calcium(2+), Heparin cofactor 2), Vitamin K-dependent protein C light chain(bound: calcium(2+), PROC)], [Plasma serine protease inhibitor(bound: Vitamin K-dependent protein C light chain, calcium(2+), PROC)])]"
      ]
     },
     "execution_count": 4,
     "metadata": {},
     "output_type": "execute_result"
    }
   ],
   "source": [
    "coagulation_cascade.process_all()\n",
    "coagulation_cascade.get_protein_conversions()\n",
    "coagulation_cascade.statements"
   ]
  },
  {
   "cell_type": "code",
   "execution_count": 5,
   "metadata": {},
   "outputs": [
    {
     "data": {
      "text/markdown": [
       "1. Calcium(2+) catalyzes the conversion of F7 bound to calcium(2+) and F7 bound to calcium(2+) into F7 bound to calcium(2+) and Tissue factor.\n",
       "1.  F7 catalyzes the conversion of Factor X heavy chain bound to Factor X light chain into Factor X heavy chain bound to Factor X light chain and Activated factor Xa heavy chain bound to calcium(2+) and Factor X light chain.\n",
       "1.  Tissue factor palmitoylated on C277 catalyzes the conversion of Factor X heavy chain bound to Factor X light chain into Factor X heavy chain bound to Factor X light chain and Activated factor Xa heavy chain bound to calcium(2+) and Factor X light chain.\n",
       "1.  Activated factor Xa heavy chain catalyzes the conversion of F7 bound to calcium(2+) into Factor VII heavy chain bound to Factor VII light chain and calcium(2+).\n",
       "1.  Factor X light chain catalyzes the conversion of F7 bound to calcium(2+) into Factor VII heavy chain bound to Factor VII light chain and calcium(2+).\n",
       "1.  Calcium(2+) catalyzes the conversion of Factor VII heavy chain bound to Factor VII light chain and calcium(2+) and Factor VII heavy chain bound to Factor VII light chain and calcium(2+) into Factor VII light chain bound to calcium(2+), Factor VII heavy chain, and Tissue factor.\n",
       "1.  Tissue factor palmitoylated on C277 catalyzes the conversion of Factor X heavy chain bound to Factor X light chain and Factor X heavy chain bound to Factor X light chain into Factor X heavy chain bound to Factor X light chain and Activated factor Xa heavy chain bound to calcium(2+) and Factor X light chain.\n",
       "1.  Tissue factor palmitoylated on C277 catalyzes the conversion of Activated factor Xa heavy chain bound to calcium(2+) and Factor X light chain into Activated factor Xa heavy chain bound to calcium(2+) and Factor X light chain and Coagulation factor IXa heavy chain bound to Coagulation factor IXa light chain.\n",
       "1.  Calcium(2+) catalyzes the conversion of Coagulation factor IXa heavy chain bound to Coagulation factor IXa light chain into Coagulation factor IXa heavy chain bound to Coagulation factor IXa light chain and Coagulation factor IXa heavy chain bound to Coagulation factor IXa light chain.\n",
       "1.  Zinc(2+) catalyzes the conversion of Complement component 1 Q subcomponent-binding protein, mitochondrial and Complement component 1 Q subcomponent-binding protein, mitochondrial into Kininogen-1 bound to Complement component 1 Q subcomponent-binding protein, mitochondrial.\n",
       "1.  Lysosomal Pro-X carboxypeptidase catalyzes the conversion of Kininogen-1 bound to Complement component 1 Q subcomponent-binding protein, mitochondrial and KLKB1 into Kininogen-1 bound to Complement component 1 Q subcomponent-binding protein, mitochondrial, Plasma kallikrein heavy chain, and Plasma kallikrein light chain.\n",
       "1.  Kininogen-1 catalyzes the conversion of Kininogen-1 bound to Complement component 1 Q subcomponent-binding protein, mitochondrial, Plasma kallikrein heavy chain, and Plasma kallikrein light chain into Coagulation factor XIIa light chain bound to Coagulation factor XIIa heavy chain.\n",
       "1.  Coagulation factor XIIa light chain catalyzes the conversion of F11 bound to Platelet glycoprotein IX, Platelet glycoprotein V, GP1BA, and GP1BB into Coagulation factor XIa heavy chain bound to Coagulation factor XIa light chain, Platelet glycoprotein IX, Platelet glycoprotein V, GP1BA, and GP1BB.\n",
       "1.  Coagulation factor XIIa heavy chain catalyzes the conversion of F11 bound to Platelet glycoprotein IX, Platelet glycoprotein V, GP1BA, and GP1BB into Coagulation factor XIa heavy chain bound to Coagulation factor XIa light chain, Platelet glycoprotein IX, Platelet glycoprotein V, GP1BA, and GP1BB.\n",
       "1.  Thrombin heavy chain catalyzes the conversion of F11 bound to Platelet glycoprotein IX, Platelet glycoprotein V, GP1BA, and GP1BB into Coagulation factor XIa heavy chain bound to Coagulation factor XIa light chain, Platelet glycoprotein IX, Platelet glycoprotein V, GP1BA, and GP1BB.\n",
       "1.  Thrombin light chain catalyzes the conversion of F11 bound to Platelet glycoprotein IX, Platelet glycoprotein V, GP1BA, and GP1BB into Coagulation factor XIa heavy chain bound to Coagulation factor XIa light chain, Platelet glycoprotein IX, Platelet glycoprotein V, GP1BA, and GP1BB.\n",
       "1.  Activated thrombin (factor IIa):SERPIND1 catalyzes the conversion of F11 bound to Platelet glycoprotein IX, Platelet glycoprotein V, GP1BA, and GP1BB into Coagulation factor XIa heavy chain bound to Coagulation factor XIa light chain, Platelet glycoprotein IX, Platelet glycoprotein V, GP1BA, and GP1BB.\n",
       "1.  Thrombin:cleaved SERPINC1 catalyzes the conversion of F11 bound to Platelet glycoprotein IX, Platelet glycoprotein V, GP1BA, and GP1BB into Coagulation factor XIa heavy chain bound to Coagulation factor XIa light chain, Platelet glycoprotein IX, Platelet glycoprotein V, GP1BA, and GP1BB.\n",
       "1.  SERPINA5:Activated protein C catalyzes the conversion of F11 bound to Platelet glycoprotein IX, Platelet glycoprotein V, GP1BA, and GP1BB into Coagulation factor XIa heavy chain bound to Coagulation factor XIa light chain, Platelet glycoprotein IX, Platelet glycoprotein V, GP1BA, and GP1BB.\n",
       "1.  Factor IIa inhibitors (compounds):IIa catalyzes the conversion of F11 bound to Platelet glycoprotein IX, Platelet glycoprotein V, GP1BA, and GP1BB into Coagulation factor XIa heavy chain bound to Coagulation factor XIa light chain, Platelet glycoprotein IX, Platelet glycoprotein V, GP1BA, and GP1BB.\n",
       "1.  Factor IIa inhibitors (peptide):IIa catalyzes the conversion of F11 bound to Platelet glycoprotein IX, Platelet glycoprotein V, GP1BA, and GP1BB into Coagulation factor XIa heavy chain bound to Coagulation factor XIa light chain, Platelet glycoprotein IX, Platelet glycoprotein V, GP1BA, and GP1BB.\n",
       "1.  Calcium(2+) catalyzes the conversion of Coagulation factor XIa heavy chain bound to Coagulation factor XIa light chain, Platelet glycoprotein IX, Platelet glycoprotein V, GP1BA, and GP1BB into Coagulation factor XIa heavy chain bound to Coagulation factor XIa light chain, Platelet glycoprotein IX, Platelet glycoprotein V, GP1BA, and GP1BB and Coagulation factor IXa heavy chain bound to Coagulation factor IXa light chain.\n",
       "1.  Thrombin heavy chain catalyzes the conversion of Factor VIIIa heavy chain, 92 kDa isoform bound to Factor VIIIa light chain and von Willebrand factor into von Willebrand factor, von Willebrand factor, and F8 bound to F8 and F8.\n",
       "1.  Thrombin light chain catalyzes the conversion of Factor VIIIa heavy chain, 92 kDa isoform bound to Factor VIIIa light chain and von Willebrand factor into von Willebrand factor, von Willebrand factor, and F8 bound to F8 and F8.\n",
       "1.  Activated thrombin (factor IIa):SERPIND1 catalyzes the conversion of Factor VIIIa heavy chain, 92 kDa isoform bound to Factor VIIIa light chain and von Willebrand factor into von Willebrand factor, von Willebrand factor, and F8 bound to F8 and F8.\n",
       "1.  Thrombin:cleaved SERPINC1 catalyzes the conversion of Factor VIIIa heavy chain, 92 kDa isoform bound to Factor VIIIa light chain and von Willebrand factor into von Willebrand factor, von Willebrand factor, and F8 bound to F8 and F8.\n",
       "1.  SERPINA5:Activated protein C catalyzes the conversion of Factor VIIIa heavy chain, 92 kDa isoform bound to Factor VIIIa light chain and von Willebrand factor into von Willebrand factor, von Willebrand factor, and F8 bound to F8 and F8.\n",
       "1.  Factor IIa inhibitors (compounds):IIa catalyzes the conversion of Factor VIIIa heavy chain, 92 kDa isoform bound to Factor VIIIa light chain and von Willebrand factor into von Willebrand factor, von Willebrand factor, and F8 bound to F8 and F8.\n",
       "1.  Factor IIa inhibitors (peptide):IIa catalyzes the conversion of Factor VIIIa heavy chain, 92 kDa isoform bound to Factor VIIIa light chain and von Willebrand factor into von Willebrand factor, von Willebrand factor, and F8 bound to F8 and F8.\n",
       "1.  Calcium(2+) catalyzes the conversion of F8 bound to F8 and F8 and Coagulation factor IXa light chain bound to Coagulation factor IXa heavy chain into F8 bound to F8, F8, Coagulation factor IXa light chain, and Coagulation factor IXa heavy chain.\n",
       "1.  Vitamin K-dependent protein S catalyzes the conversion of Factor X heavy chain bound to Factor X light chain and Factor X heavy chain bound to Factor X light chain into Factor X heavy chain bound to Factor X light chain and Activated factor Xa heavy chain bound to calcium(2+) and Factor X light chain.\n",
       "1.  Activated factor Xa heavy chain catalyzes the conversion of Activated factor Xa heavy chain bound to calcium(2+) and Factor X light chain into Activated factor Xa heavy chain bound to calcium(2+) and Factor X light chain and Thrombin heavy chain bound to Thrombin light chain and calcium(2+).\n",
       "1.  Factor X light chain catalyzes the conversion of Thrombin heavy chain bound to Thrombin light chain and calcium(2+) into Thrombin heavy chain bound to Thrombin light chain and calcium(2+) and Thrombin heavy chain bound to Thrombin light chain and calcium(2+).\n",
       "1.  Thrombin heavy chain catalyzes the conversion of Thrombin heavy chain bound to Thrombin light chain and calcium(2+) into Coagulation factor V heavy chain bound to Coagulation factor V light chain and calcium(2+) and Coagulation factor V heavy chain bound to Coagulation factor V light chain and calcium(2+).\n",
       "1.  Thrombin light chain catalyzes the conversion of Coagulation factor V heavy chain bound to Coagulation factor V light chain and calcium(2+) into Coagulation factor V heavy chain bound to Coagulation factor V light chain and calcium(2+) and Coagulation factor V heavy chain bound to Coagulation factor V light chain and calcium(2+).\n",
       "1.  Activated thrombin (factor IIa):SERPIND1 catalyzes the conversion of Coagulation factor V heavy chain bound to Coagulation factor V light chain and calcium(2+) into Coagulation factor V heavy chain bound to Coagulation factor V light chain and calcium(2+) and Coagulation factor V heavy chain bound to Coagulation factor V light chain and calcium(2+).\n",
       "1.  Thrombin:cleaved SERPINC1 catalyzes the conversion of Coagulation factor V heavy chain bound to Coagulation factor V light chain and calcium(2+) into Coagulation factor V heavy chain bound to Coagulation factor V light chain and calcium(2+) and Coagulation factor V heavy chain bound to Coagulation factor V light chain and calcium(2+).\n",
       "1.  SERPINA5:Activated protein C catalyzes the conversion of Coagulation factor V heavy chain bound to Coagulation factor V light chain and calcium(2+) into Coagulation factor V heavy chain bound to Coagulation factor V light chain and calcium(2+) and Coagulation factor V heavy chain bound to Coagulation factor V light chain and calcium(2+).\n",
       "1.  Thrombin heavy chain catalyzes the conversion of FGB bound to FGA and Fibrinogen gamma chain into Fibrinogen beta chain bound to Fibrinogen alpha chain and Fibrinogen gamma chain, Fibrinogen beta chain bound to Fibrinogen alpha chain and Fibrinogen gamma chain, and Fibrinogen beta chain bound to Fibrinogen alpha chain and Fibrinogen gamma chain.\n",
       "1.  Thrombin light chain catalyzes the conversion of FGB bound to FGA and Fibrinogen gamma chain into Fibrinogen beta chain bound to Fibrinogen alpha chain and Fibrinogen gamma chain, Fibrinogen beta chain bound to Fibrinogen alpha chain and Fibrinogen gamma chain, and Fibrinogen beta chain bound to Fibrinogen alpha chain and Fibrinogen gamma chain.\n",
       "1.  Activated thrombin (factor IIa):SERPIND1 catalyzes the conversion of FGB bound to FGA and Fibrinogen gamma chain into Fibrinogen beta chain bound to Fibrinogen alpha chain and Fibrinogen gamma chain, Fibrinogen beta chain bound to Fibrinogen alpha chain and Fibrinogen gamma chain, and Fibrinogen beta chain bound to Fibrinogen alpha chain and Fibrinogen gamma chain.\n",
       "1.  Thrombin:cleaved SERPINC1 catalyzes the conversion of FGB bound to FGA and Fibrinogen gamma chain into Fibrinogen beta chain bound to Fibrinogen alpha chain and Fibrinogen gamma chain, Fibrinogen beta chain bound to Fibrinogen alpha chain and Fibrinogen gamma chain, and Fibrinogen beta chain bound to Fibrinogen alpha chain and Fibrinogen gamma chain.\n",
       "1.  SERPINA5:Activated protein C catalyzes the conversion of FGB bound to FGA and Fibrinogen gamma chain into Fibrinogen beta chain bound to Fibrinogen alpha chain and Fibrinogen gamma chain, Fibrinogen beta chain bound to Fibrinogen alpha chain and Fibrinogen gamma chain, and Fibrinogen beta chain bound to Fibrinogen alpha chain and Fibrinogen gamma chain.\n",
       "1.  Factor IIa inhibitors (compounds):IIa catalyzes the conversion of FGB bound to FGA and Fibrinogen gamma chain into Fibrinogen beta chain bound to Fibrinogen alpha chain and Fibrinogen gamma chain, Fibrinogen beta chain bound to Fibrinogen alpha chain and Fibrinogen gamma chain, and Fibrinogen beta chain bound to Fibrinogen alpha chain and Fibrinogen gamma chain.\n",
       "1.  Factor IIa inhibitors (peptide):IIa catalyzes the conversion of FGB bound to FGA and Fibrinogen gamma chain into Fibrinogen beta chain bound to Fibrinogen alpha chain and Fibrinogen gamma chain, Fibrinogen beta chain bound to Fibrinogen alpha chain and Fibrinogen gamma chain, and Fibrinogen beta chain bound to Fibrinogen alpha chain and Fibrinogen gamma chain.\n",
       "1.  Thrombin heavy chain catalyzes the conversion of F13A1 bound to Coagulation factor XIII B chain into F13A1 bound to Coagulation factor XIII B chain and F13A1 bound to Coagulation factor XIII B chain.\n",
       "1.  Thrombin light chain catalyzes the conversion of F13A1 bound to Coagulation factor XIII B chain into F13A1 bound to Coagulation factor XIII B chain and F13A1 bound to Coagulation factor XIII B chain.\n",
       "1.  Activated thrombin (factor IIa):SERPIND1 catalyzes the conversion of F13A1 bound to Coagulation factor XIII B chain into F13A1 bound to Coagulation factor XIII B chain and F13A1 bound to Coagulation factor XIII B chain.\n",
       "1.  Thrombin:cleaved SERPINC1 catalyzes the conversion of F13A1 bound to Coagulation factor XIII B chain into F13A1 bound to Coagulation factor XIII B chain and F13A1 bound to Coagulation factor XIII B chain.\n",
       "1.  SERPINA5:Activated protein C catalyzes the conversion of F13A1 bound to Coagulation factor XIII B chain into F13A1 bound to Coagulation factor XIII B chain and F13A1 bound to Coagulation factor XIII B chain.\n",
       "1.  Factor IIa inhibitors (compounds):IIa catalyzes the conversion of F13A1 bound to Coagulation factor XIII B chain into F13A1 bound to Coagulation factor XIII B chain and F13A1 bound to Coagulation factor XIII B chain.\n",
       "1.  Factor IIa inhibitors (peptide):IIa catalyzes the conversion of F13A1 bound to Coagulation factor XIII B chain into F13A1 bound to Coagulation factor XIII B chain and F13A1 bound to Coagulation factor XIII B chain.\n",
       "1.  F13A1 catalyzes the conversion of Fibrinogen beta chain bound to Fibrinogen alpha chain and Fibrinogen gamma chain into Fibrinogen beta chain bound to Fibrinogen alpha chain and Fibrinogen gamma chain and Fibrinogen beta chain bound to Fibrinogen alpha chain and Fibrinogen gamma chain.\n",
       "1.  Antithrombin-III catalyzes the conversion of Antithrombin-III bound to Thrombin heavy chain, calcium(2+), Thrombin light chain, and dalteparin into SERPINC1 bound to SERPINC1, Thrombin heavy chain, calcium(2+), Thrombin light chain, and dalteparin.\n",
       "1.  PROCR catalyzes the conversion of SERPINC1 bound to SERPINC1, Thrombin heavy chain, calcium(2+), Thrombin light chain, and dalteparin and Vitamin K-dependent protein C light chain bound to Vitamin K-dependent protein C heavy chain into Endothelial protein C receptor bound to Vitamin K-dependent protein C light chain and Vitamin K-dependent protein C heavy chain.\n",
       "1.  Thrombomodulin catalyzes the conversion of Endothelial protein C receptor bound to Vitamin K-dependent protein C light chain and Vitamin K-dependent protein C heavy chain into Endothelial protein C receptor bound to Vitamin K-dependent protein C light chain, calcium(2+), and PROC and Endothelial protein C receptor bound to Vitamin K-dependent protein C light chain, calcium(2+), and PROC.\n",
       "1.  Platelet factor 4 catalyzes the conversion of Endothelial protein C receptor bound to Vitamin K-dependent protein C light chain and Vitamin K-dependent protein C heavy chain into Endothelial protein C receptor bound to Vitamin K-dependent protein C light chain, calcium(2+), and PROC and Endothelial protein C receptor bound to Vitamin K-dependent protein C light chain, calcium(2+), and PROC.\n",
       "1.  Platelet factor 4 variant catalyzes the conversion of Endothelial protein C receptor bound to Vitamin K-dependent protein C light chain and Vitamin K-dependent protein C heavy chain into Endothelial protein C receptor bound to Vitamin K-dependent protein C light chain, calcium(2+), and PROC and Endothelial protein C receptor bound to Vitamin K-dependent protein C light chain, calcium(2+), and PROC.\n",
       "1.  Vitamin K-dependent protein S catalyzes the conversion of Coagulation factor V heavy chain bound to Coagulation factor V light chain and calcium(2+) into Coagulation factor V light chain bound to F5 and Coagulation factor V light chain bound to F5.\n",
       "1.  Vitamin K-dependent protein S catalyzes the conversion of Coagulation factor V light chain bound to F5 into Coagulation factor V light chain bound to F5 and Coagulation factor V light chain bound to F5.\n",
       "1.  Vitamin K-dependent protein S catalyzes the conversion of F8 bound to F8 and F8 into F8 bound to F8 and F8, F8 bound to F8 and F8, and F8 bound to F8 and F8.\n",
       "1.  Coagulation factor V catalyzes the conversion of F8 bound to F8 and F8 into F8 bound to F8 and F8, F8 bound to F8 and F8, and F8 bound to F8 and F8.\n",
       "1.  Glycosaminoglycan catalyzes the conversion of Thrombin heavy chain bound to Thrombin light chain and calcium(2+) and Thrombin heavy chain bound to Thrombin light chain and calcium(2+) into Thrombin heavy chain bound to Thrombin light chain, calcium(2+), and Heparin cofactor 2.\n",
       "1.  Glycosaminoglycan catalyzes the conversion of Thrombin heavy chain bound to Thrombin light chain, calcium(2+), and Heparin cofactor 2 and Vitamin K-dependent protein C light chain bound to calcium(2+) and PROC into Plasma serine protease inhibitor bound to Vitamin K-dependent protein C light chain, calcium(2+), and PROC.\n",
       "1. "
      ],
      "text/plain": [
       "<IPython.core.display.Markdown object>"
      ]
     },
     "execution_count": 5,
     "metadata": {},
     "output_type": "execute_result"
    }
   ],
   "source": [
    "from indra.assemblers.english.assembler import EnglishAssembler\n",
    "from IPython.display import HTML, Markdown\n",
    "\n",
    "coagulation_english = EnglishAssembler(coagulation_cascade.statements)\n",
    "english_model = coagulation_english.make_model()\n",
    "Markdown( '1. ' + '.\\n1. '.join(english_model.split('.')))\n"
   ]
  },
  {
   "cell_type": "code",
   "execution_count": 6,
   "metadata": {
    "scrolled": true
   },
   "outputs": [
    {
     "name": "stdout",
     "output_type": "stream",
     "text": [
      "---------------------  ------------------------------------\n",
      "Name                   indra\n",
      "Version                58803eb7-ec9d-485f-8418-3bcb88a1576a\n",
      "Number of Nodes        58\n",
      "Number of Namespaces   4\n",
      "Number of Edges        124\n",
      "Number of Annotations  6\n",
      "Number of Citations    40\n",
      "Number of Authors      0\n",
      "Network Density        3.75E-02\n",
      "Number of Components   1\n",
      "Number of Warnings     0\n",
      "---------------------  ------------------------------------\n",
      "\n",
      "Type (3)      Count  Example\n",
      "----------  -------  ------------------------------------------------------------------\n",
      "Reaction         26  rxn(reactants(p(HGNC:6383 ! KNG1)), products(p(HGNC:6383 ! KNG1)))\n",
      "Protein          24  p(HGNC:3530 ! F12)\n",
      "Abundance         8  a(CHEBI:29105 ! \"zinc(2+)\")\n",
      "\n",
      "Namespace (4)      Count  Example\n",
      "---------------  -------  --------------------------------------------------\n",
      "HGNC                 101  p(HGNC:9451 ! PROC)\n",
      "TEXT                   5  a(TEXT:\"activated thrombin (factor IIa):SERPIND1\")\n",
      "CHEBI                  3  a(CHEBI:29108 ! \"calcium(2+)\")\n",
      "go                     1\n",
      "\n",
      "Edge Type (5)                           Count  Example\n",
      "------------------------------------  -------  --------------------------------------------------------------------------------------------------------------------------------------------\n",
      "Protein directlyIncreases Reaction         33  p(HGNC:3535 ! F2) directlyIncreases rxn(reactants(p(HGNC:3546 ! F8)), products(p(HGNC:12726 ! VWF), p(HGNC:12726 ! VWF), p(HGNC:3546 ! F8)))\n",
      "Abundance directlyIncreases Reaction       31  a(CHEBI:18085 ! glycosaminoglycan) directlyIncreases rxn(reactants(p(HGNC:3535 ! F2), p(HGNC:3535 ! F2)), products(p(HGNC:3535 ! F2)))\n",
      "Reaction hasProduct Protein                30  rxn(reactants(p(HGNC:3529 ! F11)), products(p(HGNC:3529 ! F11))) hasProduct p(HGNC:3529 ! F11)\n",
      "Reaction hasReactant Protein               29  rxn(reactants(p(HGNC:3528 ! F10)), products(p(HGNC:3528 ! F10), p(HGNC:3528 ! F10))) hasReactant p(HGNC:3528 ! F10)\n",
      "Protein hasVariant Protein                  1  p(HGNC:3541 ! F3) hasVariant p(HGNC:3541 ! F3, pmod(go:0018345 ! \"protein palmitoylation\", Cys, 277))\n",
      "\n"
     ]
    }
   ],
   "source": [
    "from indra.assemblers.pybel.assembler import PybelAssembler\n",
    "pyb = PybelAssembler(coagulation_cascade.statements)\n",
    "coagulation_bel = pyb.make_model()\n",
    "coagulation_bel.summarize()"
   ]
  },
  {
   "cell_type": "markdown",
   "metadata": {},
   "source": [
    "## Coagulation BEL statements"
   ]
  },
  {
   "cell_type": "code",
   "execution_count": 12,
   "metadata": {
    "scrolled": true
   },
   "outputs": [
    {
     "name": "stdout",
     "output_type": "stream",
     "text": [
      "rxn(reactants(p(HGNC:3544 ! F7), p(HGNC:3544 ! F7)), products(p(HGNC:3544 ! F7))) hasReactant p(HGNC:3544 ! F7)\n",
      "rxn(reactants(p(HGNC:3544 ! F7), p(HGNC:3544 ! F7)), products(p(HGNC:3544 ! F7))) hasProduct p(HGNC:3544 ! F7)\n",
      "p(HGNC:3544 ! F7) directlyIncreases rxn(reactants(p(HGNC:3528 ! F10)), products(p(HGNC:3528 ! F10), p(HGNC:3528 ! F10)))\n",
      "a(CHEBI:29108 ! \"calcium(2+)\") directlyIncreases rxn(reactants(p(HGNC:3544 ! F7), p(HGNC:3544 ! F7)), products(p(HGNC:3544 ! F7)))\n",
      "a(CHEBI:29108 ! \"calcium(2+)\") directlyIncreases rxn(reactants(p(HGNC:3544 ! F7), p(HGNC:3544 ! F7)), products(p(HGNC:3544 ! F7)))\n",
      "a(CHEBI:29108 ! \"calcium(2+)\") directlyIncreases rxn(reactants(p(HGNC:3551 ! F9)), products(p(HGNC:3551 ! F9), p(HGNC:3551 ! F9)))\n",
      "a(CHEBI:29108 ! \"calcium(2+)\") directlyIncreases rxn(reactants(p(HGNC:3529 ! F11)), products(p(HGNC:3529 ! F11), p(HGNC:3551 ! F9)))\n",
      "a(CHEBI:29108 ! \"calcium(2+)\") directlyIncreases rxn(reactants(p(HGNC:3546 ! F8), p(HGNC:3551 ! F9)), products(p(HGNC:3546 ! F8)))\n",
      "rxn(reactants(p(HGNC:3528 ! F10)), products(p(HGNC:3528 ! F10), p(HGNC:3528 ! F10))) hasReactant p(HGNC:3528 ! F10)\n",
      "rxn(reactants(p(HGNC:3528 ! F10)), products(p(HGNC:3528 ! F10), p(HGNC:3528 ! F10))) hasProduct p(HGNC:3528 ! F10)\n",
      "p(HGNC:3528 ! F10) directlyIncreases rxn(reactants(p(HGNC:3544 ! F7)), products(p(HGNC:3544 ! F7)))\n",
      "p(HGNC:3528 ! F10) directlyIncreases rxn(reactants(p(HGNC:3544 ! F7)), products(p(HGNC:3544 ! F7)))\n",
      "p(HGNC:3528 ! F10) directlyIncreases rxn(reactants(p(HGNC:3528 ! F10)), products(p(HGNC:3528 ! F10), p(HGNC:3535 ! F2)))\n",
      "p(HGNC:3528 ! F10) directlyIncreases rxn(reactants(p(HGNC:3535 ! F2)), products(p(HGNC:3535 ! F2), p(HGNC:3535 ! F2)))\n",
      "p(HGNC:3541 ! F3, pmod(go:0018345 ! \"protein palmitoylation\", Cys, 277)) directlyIncreases rxn(reactants(p(HGNC:3528 ! F10)), products(p(HGNC:3528 ! F10), p(HGNC:3528 ! F10)))\n",
      "p(HGNC:3541 ! F3, pmod(go:0018345 ! \"protein palmitoylation\", Cys, 277)) directlyIncreases rxn(reactants(p(HGNC:3528 ! F10), p(HGNC:3528 ! F10)), products(p(HGNC:3528 ! F10), p(HGNC:3528 ! F10)))\n",
      "p(HGNC:3541 ! F3, pmod(go:0018345 ! \"protein palmitoylation\", Cys, 277)) directlyIncreases rxn(reactants(p(HGNC:3528 ! F10)), products(p(HGNC:3528 ! F10), p(HGNC:3551 ! F9)))\n",
      "p(HGNC:3541 ! F3) hasVariant p(HGNC:3541 ! F3, pmod(go:0018345 ! \"protein palmitoylation\", Cys, 277))\n",
      "rxn(reactants(p(HGNC:3544 ! F7)), products(p(HGNC:3544 ! F7))) hasReactant p(HGNC:3544 ! F7)\n",
      "rxn(reactants(p(HGNC:3544 ! F7)), products(p(HGNC:3544 ! F7))) hasProduct p(HGNC:3544 ! F7)\n",
      "rxn(reactants(p(HGNC:3528 ! F10), p(HGNC:3528 ! F10)), products(p(HGNC:3528 ! F10), p(HGNC:3528 ! F10))) hasReactant p(HGNC:3528 ! F10)\n",
      "rxn(reactants(p(HGNC:3528 ! F10), p(HGNC:3528 ! F10)), products(p(HGNC:3528 ! F10), p(HGNC:3528 ! F10))) hasProduct p(HGNC:3528 ! F10)\n",
      "rxn(reactants(p(HGNC:3528 ! F10)), products(p(HGNC:3528 ! F10), p(HGNC:3551 ! F9))) hasReactant p(HGNC:3528 ! F10)\n",
      "rxn(reactants(p(HGNC:3528 ! F10)), products(p(HGNC:3528 ! F10), p(HGNC:3551 ! F9))) hasProduct p(HGNC:3528 ! F10)\n",
      "rxn(reactants(p(HGNC:3528 ! F10)), products(p(HGNC:3528 ! F10), p(HGNC:3551 ! F9))) hasProduct p(HGNC:3551 ! F9)\n",
      "rxn(reactants(p(HGNC:3551 ! F9)), products(p(HGNC:3551 ! F9), p(HGNC:3551 ! F9))) hasReactant p(HGNC:3551 ! F9)\n",
      "rxn(reactants(p(HGNC:3551 ! F9)), products(p(HGNC:3551 ! F9), p(HGNC:3551 ! F9))) hasProduct p(HGNC:3551 ! F9)\n",
      "rxn(reactants(p(HGNC:1243 ! C1QBP), p(HGNC:1243 ! C1QBP)), products(p(HGNC:6383 ! KNG1))) hasReactant p(HGNC:1243 ! C1QBP)\n",
      "rxn(reactants(p(HGNC:1243 ! C1QBP), p(HGNC:1243 ! C1QBP)), products(p(HGNC:6383 ! KNG1))) hasProduct p(HGNC:6383 ! KNG1)\n",
      "p(HGNC:6383 ! KNG1) directlyIncreases rxn(reactants(p(HGNC:6383 ! KNG1)), products(p(HGNC:3530 ! F12)))\n",
      "a(CHEBI:29105 ! \"zinc(2+)\") directlyIncreases rxn(reactants(p(HGNC:1243 ! C1QBP), p(HGNC:1243 ! C1QBP)), products(p(HGNC:6383 ! KNG1)))\n",
      "rxn(reactants(p(HGNC:6383 ! KNG1)), products(p(HGNC:6383 ! KNG1))) hasReactant p(HGNC:6383 ! KNG1)\n",
      "rxn(reactants(p(HGNC:6383 ! KNG1)), products(p(HGNC:6383 ! KNG1))) hasProduct p(HGNC:6383 ! KNG1)\n",
      "p(HGNC:9344 ! PRCP) directlyIncreases rxn(reactants(p(HGNC:6383 ! KNG1)), products(p(HGNC:6383 ! KNG1)))\n",
      "rxn(reactants(p(HGNC:6383 ! KNG1)), products(p(HGNC:3530 ! F12))) hasReactant p(HGNC:6383 ! KNG1)\n",
      "rxn(reactants(p(HGNC:6383 ! KNG1)), products(p(HGNC:3530 ! F12))) hasProduct p(HGNC:3530 ! F12)\n",
      "p(HGNC:3530 ! F12) directlyIncreases rxn(reactants(p(HGNC:3529 ! F11)), products(p(HGNC:3529 ! F11)))\n",
      "p(HGNC:3530 ! F12) directlyIncreases rxn(reactants(p(HGNC:3529 ! F11)), products(p(HGNC:3529 ! F11)))\n",
      "rxn(reactants(p(HGNC:3529 ! F11)), products(p(HGNC:3529 ! F11))) hasReactant p(HGNC:3529 ! F11)\n",
      "rxn(reactants(p(HGNC:3529 ! F11)), products(p(HGNC:3529 ! F11))) hasProduct p(HGNC:3529 ! F11)\n",
      "p(HGNC:3535 ! F2) directlyIncreases rxn(reactants(p(HGNC:3529 ! F11)), products(p(HGNC:3529 ! F11)))\n",
      "p(HGNC:3535 ! F2) directlyIncreases rxn(reactants(p(HGNC:3529 ! F11)), products(p(HGNC:3529 ! F11)))\n",
      "p(HGNC:3535 ! F2) directlyIncreases rxn(reactants(p(HGNC:3546 ! F8)), products(p(HGNC:12726 ! VWF), p(HGNC:12726 ! VWF), p(HGNC:3546 ! F8)))\n",
      "p(HGNC:3535 ! F2) directlyIncreases rxn(reactants(p(HGNC:3546 ! F8)), products(p(HGNC:12726 ! VWF), p(HGNC:12726 ! VWF), p(HGNC:3546 ! F8)))\n",
      "p(HGNC:3535 ! F2) directlyIncreases rxn(reactants(p(HGNC:3535 ! F2)), products(p(HGNC:3542 ! F5), p(HGNC:3542 ! F5)))\n",
      "p(HGNC:3535 ! F2) directlyIncreases rxn(reactants(p(HGNC:3542 ! F5)), products(p(HGNC:3542 ! F5), p(HGNC:3542 ! F5)))\n",
      "p(HGNC:3535 ! F2) directlyIncreases rxn(reactants(p(HGNC:3662 ! FGB)), products(p(HGNC:3662 ! FGB), p(HGNC:3662 ! FGB), p(HGNC:3662 ! FGB)))\n",
      "p(HGNC:3535 ! F2) directlyIncreases rxn(reactants(p(HGNC:3662 ! FGB)), products(p(HGNC:3662 ! FGB), p(HGNC:3662 ! FGB), p(HGNC:3662 ! FGB)))\n",
      "p(HGNC:3535 ! F2) directlyIncreases rxn(reactants(p(HGNC:3531 ! F13A1)), products(p(HGNC:3531 ! F13A1), p(HGNC:3531 ! F13A1)))\n",
      "p(HGNC:3535 ! F2) directlyIncreases rxn(reactants(p(HGNC:3531 ! F13A1)), products(p(HGNC:3531 ! F13A1), p(HGNC:3531 ! F13A1)))\n",
      "a(TEXT:\"activated thrombin (factor IIa):SERPIND1\") directlyIncreases rxn(reactants(p(HGNC:3529 ! F11)), products(p(HGNC:3529 ! F11)))\n",
      "a(TEXT:\"activated thrombin (factor IIa):SERPIND1\") directlyIncreases rxn(reactants(p(HGNC:3546 ! F8)), products(p(HGNC:12726 ! VWF), p(HGNC:12726 ! VWF), p(HGNC:3546 ! F8)))\n",
      "a(TEXT:\"activated thrombin (factor IIa):SERPIND1\") directlyIncreases rxn(reactants(p(HGNC:3542 ! F5)), products(p(HGNC:3542 ! F5), p(HGNC:3542 ! F5)))\n",
      "a(TEXT:\"activated thrombin (factor IIa):SERPIND1\") directlyIncreases rxn(reactants(p(HGNC:3662 ! FGB)), products(p(HGNC:3662 ! FGB), p(HGNC:3662 ! FGB), p(HGNC:3662 ! FGB)))\n",
      "a(TEXT:\"activated thrombin (factor IIa):SERPIND1\") directlyIncreases rxn(reactants(p(HGNC:3531 ! F13A1)), products(p(HGNC:3531 ! F13A1), p(HGNC:3531 ! F13A1)))\n",
      "a(TEXT:\"thrombin:cleaved SERPINC1\") directlyIncreases rxn(reactants(p(HGNC:3529 ! F11)), products(p(HGNC:3529 ! F11)))\n",
      "a(TEXT:\"thrombin:cleaved SERPINC1\") directlyIncreases rxn(reactants(p(HGNC:3546 ! F8)), products(p(HGNC:12726 ! VWF), p(HGNC:12726 ! VWF), p(HGNC:3546 ! F8)))\n",
      "a(TEXT:\"thrombin:cleaved SERPINC1\") directlyIncreases rxn(reactants(p(HGNC:3542 ! F5)), products(p(HGNC:3542 ! F5), p(HGNC:3542 ! F5)))\n",
      "a(TEXT:\"thrombin:cleaved SERPINC1\") directlyIncreases rxn(reactants(p(HGNC:3662 ! FGB)), products(p(HGNC:3662 ! FGB), p(HGNC:3662 ! FGB), p(HGNC:3662 ! FGB)))\n",
      "a(TEXT:\"thrombin:cleaved SERPINC1\") directlyIncreases rxn(reactants(p(HGNC:3531 ! F13A1)), products(p(HGNC:3531 ! F13A1), p(HGNC:3531 ! F13A1)))\n",
      "a(TEXT:\"SERPINA5:Activated protein C\") directlyIncreases rxn(reactants(p(HGNC:3529 ! F11)), products(p(HGNC:3529 ! F11)))\n",
      "a(TEXT:\"SERPINA5:Activated protein C\") directlyIncreases rxn(reactants(p(HGNC:3546 ! F8)), products(p(HGNC:12726 ! VWF), p(HGNC:12726 ! VWF), p(HGNC:3546 ! F8)))\n",
      "a(TEXT:\"SERPINA5:Activated protein C\") directlyIncreases rxn(reactants(p(HGNC:3542 ! F5)), products(p(HGNC:3542 ! F5), p(HGNC:3542 ! F5)))\n",
      "a(TEXT:\"SERPINA5:Activated protein C\") directlyIncreases rxn(reactants(p(HGNC:3662 ! FGB)), products(p(HGNC:3662 ! FGB), p(HGNC:3662 ! FGB), p(HGNC:3662 ! FGB)))\n",
      "a(TEXT:\"SERPINA5:Activated protein C\") directlyIncreases rxn(reactants(p(HGNC:3531 ! F13A1)), products(p(HGNC:3531 ! F13A1), p(HGNC:3531 ! F13A1)))\n",
      "a(TEXT:\"Factor IIa inhibitors (compounds):IIa\") directlyIncreases rxn(reactants(p(HGNC:3529 ! F11)), products(p(HGNC:3529 ! F11)))\n",
      "a(TEXT:\"Factor IIa inhibitors (compounds):IIa\") directlyIncreases rxn(reactants(p(HGNC:3546 ! F8)), products(p(HGNC:12726 ! VWF), p(HGNC:12726 ! VWF), p(HGNC:3546 ! F8)))\n",
      "a(TEXT:\"Factor IIa inhibitors (compounds):IIa\") directlyIncreases rxn(reactants(p(HGNC:3662 ! FGB)), products(p(HGNC:3662 ! FGB), p(HGNC:3662 ! FGB), p(HGNC:3662 ! FGB)))\n",
      "a(TEXT:\"Factor IIa inhibitors (compounds):IIa\") directlyIncreases rxn(reactants(p(HGNC:3531 ! F13A1)), products(p(HGNC:3531 ! F13A1), p(HGNC:3531 ! F13A1)))\n",
      "a(TEXT:\"Factor IIa inhibitors (peptide):IIa\") directlyIncreases rxn(reactants(p(HGNC:3529 ! F11)), products(p(HGNC:3529 ! F11)))\n",
      "a(TEXT:\"Factor IIa inhibitors (peptide):IIa\") directlyIncreases rxn(reactants(p(HGNC:3546 ! F8)), products(p(HGNC:12726 ! VWF), p(HGNC:12726 ! VWF), p(HGNC:3546 ! F8)))\n",
      "a(TEXT:\"Factor IIa inhibitors (peptide):IIa\") directlyIncreases rxn(reactants(p(HGNC:3662 ! FGB)), products(p(HGNC:3662 ! FGB), p(HGNC:3662 ! FGB), p(HGNC:3662 ! FGB)))\n",
      "a(TEXT:\"Factor IIa inhibitors (peptide):IIa\") directlyIncreases rxn(reactants(p(HGNC:3531 ! F13A1)), products(p(HGNC:3531 ! F13A1), p(HGNC:3531 ! F13A1)))\n",
      "rxn(reactants(p(HGNC:3529 ! F11)), products(p(HGNC:3529 ! F11), p(HGNC:3551 ! F9))) hasReactant p(HGNC:3529 ! F11)\n",
      "rxn(reactants(p(HGNC:3529 ! F11)), products(p(HGNC:3529 ! F11), p(HGNC:3551 ! F9))) hasProduct p(HGNC:3529 ! F11)\n",
      "rxn(reactants(p(HGNC:3529 ! F11)), products(p(HGNC:3529 ! F11), p(HGNC:3551 ! F9))) hasProduct p(HGNC:3551 ! F9)\n",
      "rxn(reactants(p(HGNC:3546 ! F8)), products(p(HGNC:12726 ! VWF), p(HGNC:12726 ! VWF), p(HGNC:3546 ! F8))) hasReactant p(HGNC:3546 ! F8)\n",
      "rxn(reactants(p(HGNC:3546 ! F8)), products(p(HGNC:12726 ! VWF), p(HGNC:12726 ! VWF), p(HGNC:3546 ! F8))) hasProduct p(HGNC:3546 ! F8)\n",
      "rxn(reactants(p(HGNC:3546 ! F8)), products(p(HGNC:12726 ! VWF), p(HGNC:12726 ! VWF), p(HGNC:3546 ! F8))) hasProduct p(HGNC:12726 ! VWF)\n",
      "rxn(reactants(p(HGNC:3546 ! F8), p(HGNC:3551 ! F9)), products(p(HGNC:3546 ! F8))) hasReactant p(HGNC:3546 ! F8)\n",
      "rxn(reactants(p(HGNC:3546 ! F8), p(HGNC:3551 ! F9)), products(p(HGNC:3546 ! F8))) hasProduct p(HGNC:3546 ! F8)\n",
      "rxn(reactants(p(HGNC:3546 ! F8), p(HGNC:3551 ! F9)), products(p(HGNC:3546 ! F8))) hasReactant p(HGNC:3551 ! F9)\n",
      "p(HGNC:9456 ! PROS1) directlyIncreases rxn(reactants(p(HGNC:3528 ! F10), p(HGNC:3528 ! F10)), products(p(HGNC:3528 ! F10), p(HGNC:3528 ! F10)))\n",
      "p(HGNC:9456 ! PROS1) directlyIncreases rxn(reactants(p(HGNC:3542 ! F5)), products(p(HGNC:3542 ! F5), p(HGNC:3542 ! F5)))\n",
      "p(HGNC:9456 ! PROS1) directlyIncreases rxn(reactants(p(HGNC:3542 ! F5)), products(p(HGNC:3542 ! F5), p(HGNC:3542 ! F5)))\n",
      "p(HGNC:9456 ! PROS1) directlyIncreases rxn(reactants(p(HGNC:3546 ! F8)), products(p(HGNC:3546 ! F8), p(HGNC:3546 ! F8), p(HGNC:3546 ! F8)))\n",
      "rxn(reactants(p(HGNC:3528 ! F10)), products(p(HGNC:3528 ! F10), p(HGNC:3535 ! F2))) hasReactant p(HGNC:3528 ! F10)\n",
      "rxn(reactants(p(HGNC:3528 ! F10)), products(p(HGNC:3528 ! F10), p(HGNC:3535 ! F2))) hasProduct p(HGNC:3528 ! F10)\n",
      "rxn(reactants(p(HGNC:3528 ! F10)), products(p(HGNC:3528 ! F10), p(HGNC:3535 ! F2))) hasProduct p(HGNC:3535 ! F2)\n",
      "rxn(reactants(p(HGNC:3535 ! F2)), products(p(HGNC:3535 ! F2), p(HGNC:3535 ! F2))) hasReactant p(HGNC:3535 ! F2)\n",
      "rxn(reactants(p(HGNC:3535 ! F2)), products(p(HGNC:3535 ! F2), p(HGNC:3535 ! F2))) hasProduct p(HGNC:3535 ! F2)\n",
      "rxn(reactants(p(HGNC:3535 ! F2)), products(p(HGNC:3542 ! F5), p(HGNC:3542 ! F5))) hasReactant p(HGNC:3535 ! F2)\n",
      "rxn(reactants(p(HGNC:3535 ! F2)), products(p(HGNC:3542 ! F5), p(HGNC:3542 ! F5))) hasProduct p(HGNC:3542 ! F5)\n",
      "p(HGNC:3542 ! F5) directlyIncreases rxn(reactants(p(HGNC:3546 ! F8)), products(p(HGNC:3546 ! F8), p(HGNC:3546 ! F8), p(HGNC:3546 ! F8)))\n",
      "rxn(reactants(p(HGNC:3542 ! F5)), products(p(HGNC:3542 ! F5), p(HGNC:3542 ! F5))) hasReactant p(HGNC:3542 ! F5)\n",
      "rxn(reactants(p(HGNC:3542 ! F5)), products(p(HGNC:3542 ! F5), p(HGNC:3542 ! F5))) hasProduct p(HGNC:3542 ! F5)\n",
      "rxn(reactants(p(HGNC:3662 ! FGB)), products(p(HGNC:3662 ! FGB), p(HGNC:3662 ! FGB), p(HGNC:3662 ! FGB))) hasReactant p(HGNC:3662 ! FGB)\n",
      "rxn(reactants(p(HGNC:3662 ! FGB)), products(p(HGNC:3662 ! FGB), p(HGNC:3662 ! FGB), p(HGNC:3662 ! FGB))) hasProduct p(HGNC:3662 ! FGB)\n",
      "rxn(reactants(p(HGNC:3531 ! F13A1)), products(p(HGNC:3531 ! F13A1), p(HGNC:3531 ! F13A1))) hasReactant p(HGNC:3531 ! F13A1)\n",
      "rxn(reactants(p(HGNC:3531 ! F13A1)), products(p(HGNC:3531 ! F13A1), p(HGNC:3531 ! F13A1))) hasProduct p(HGNC:3531 ! F13A1)\n",
      "p(HGNC:3531 ! F13A1) directlyIncreases rxn(reactants(p(HGNC:3662 ! FGB)), products(p(HGNC:3662 ! FGB), p(HGNC:3662 ! FGB)))\n",
      "rxn(reactants(p(HGNC:3662 ! FGB)), products(p(HGNC:3662 ! FGB), p(HGNC:3662 ! FGB))) hasReactant p(HGNC:3662 ! FGB)\n",
      "rxn(reactants(p(HGNC:3662 ! FGB)), products(p(HGNC:3662 ! FGB), p(HGNC:3662 ! FGB))) hasProduct p(HGNC:3662 ! FGB)\n",
      "rxn(reactants(p(HGNC:775 ! SERPINC1)), products(p(HGNC:775 ! SERPINC1))) hasReactant p(HGNC:775 ! SERPINC1)\n",
      "rxn(reactants(p(HGNC:775 ! SERPINC1)), products(p(HGNC:775 ! SERPINC1))) hasProduct p(HGNC:775 ! SERPINC1)\n",
      "p(HGNC:775 ! SERPINC1) directlyIncreases rxn(reactants(p(HGNC:775 ! SERPINC1)), products(p(HGNC:775 ! SERPINC1)))\n",
      "rxn(reactants(p(HGNC:775 ! SERPINC1), p(HGNC:9451 ! PROC)), products(p(HGNC:9452 ! PROCR))) hasReactant p(HGNC:775 ! SERPINC1)\n",
      "rxn(reactants(p(HGNC:775 ! SERPINC1), p(HGNC:9451 ! PROC)), products(p(HGNC:9452 ! PROCR))) hasReactant p(HGNC:9451 ! PROC)\n",
      "rxn(reactants(p(HGNC:775 ! SERPINC1), p(HGNC:9451 ! PROC)), products(p(HGNC:9452 ! PROCR))) hasProduct p(HGNC:9452 ! PROCR)\n",
      "p(HGNC:9452 ! PROCR) directlyIncreases rxn(reactants(p(HGNC:775 ! SERPINC1), p(HGNC:9451 ! PROC)), products(p(HGNC:9452 ! PROCR)))\n",
      "rxn(reactants(p(HGNC:9452 ! PROCR)), products(p(HGNC:9452 ! PROCR), p(HGNC:9452 ! PROCR))) hasReactant p(HGNC:9452 ! PROCR)\n",
      "rxn(reactants(p(HGNC:9452 ! PROCR)), products(p(HGNC:9452 ! PROCR), p(HGNC:9452 ! PROCR))) hasProduct p(HGNC:9452 ! PROCR)\n",
      "p(HGNC:11784 ! THBD) directlyIncreases rxn(reactants(p(HGNC:9452 ! PROCR)), products(p(HGNC:9452 ! PROCR), p(HGNC:9452 ! PROCR)))\n",
      "p(HGNC:8861 ! PF4) directlyIncreases rxn(reactants(p(HGNC:9452 ! PROCR)), products(p(HGNC:9452 ! PROCR), p(HGNC:9452 ! PROCR)))\n",
      "p(HGNC:8862 ! PF4V1) directlyIncreases rxn(reactants(p(HGNC:9452 ! PROCR)), products(p(HGNC:9452 ! PROCR), p(HGNC:9452 ! PROCR)))\n",
      "rxn(reactants(p(HGNC:3546 ! F8)), products(p(HGNC:3546 ! F8), p(HGNC:3546 ! F8), p(HGNC:3546 ! F8))) hasReactant p(HGNC:3546 ! F8)\n",
      "rxn(reactants(p(HGNC:3546 ! F8)), products(p(HGNC:3546 ! F8), p(HGNC:3546 ! F8), p(HGNC:3546 ! F8))) hasProduct p(HGNC:3546 ! F8)\n",
      "rxn(reactants(p(HGNC:3535 ! F2), p(HGNC:3535 ! F2)), products(p(HGNC:3535 ! F2))) hasReactant p(HGNC:3535 ! F2)\n",
      "rxn(reactants(p(HGNC:3535 ! F2), p(HGNC:3535 ! F2)), products(p(HGNC:3535 ! F2))) hasProduct p(HGNC:3535 ! F2)\n",
      "a(CHEBI:18085 ! glycosaminoglycan) directlyIncreases rxn(reactants(p(HGNC:3535 ! F2), p(HGNC:3535 ! F2)), products(p(HGNC:3535 ! F2)))\n",
      "a(CHEBI:18085 ! glycosaminoglycan) directlyIncreases rxn(reactants(p(HGNC:3535 ! F2), p(HGNC:9451 ! PROC)), products(p(HGNC:8723 ! SERPINA5)))\n",
      "rxn(reactants(p(HGNC:3535 ! F2), p(HGNC:9451 ! PROC)), products(p(HGNC:8723 ! SERPINA5))) hasReactant p(HGNC:3535 ! F2)\n",
      "rxn(reactants(p(HGNC:3535 ! F2), p(HGNC:9451 ! PROC)), products(p(HGNC:8723 ! SERPINA5))) hasReactant p(HGNC:9451 ! PROC)\n",
      "rxn(reactants(p(HGNC:3535 ! F2), p(HGNC:9451 ! PROC)), products(p(HGNC:8723 ! SERPINA5))) hasProduct p(HGNC:8723 ! SERPINA5)\n"
     ]
    }
   ],
   "source": [
    "for u,v, data in coagulation_bel.edges(data=True):\n",
    "    print(u, data['relation'], v)"
   ]
  },
  {
   "cell_type": "code",
   "execution_count": 6,
   "metadata": {},
   "outputs": [
    {
     "name": "stdout",
     "output_type": "stream",
     "text": [
      "---------------------  ------------------------------------\n",
      "Name                   indra\n",
      "Version                58803eb7-ec9d-485f-8418-3bcb88a1576a\n",
      "Number of Nodes        58\n",
      "Number of Namespaces   4\n",
      "Number of Edges        124\n",
      "Number of Annotations  6\n",
      "Number of Citations    40\n",
      "Number of Authors      0\n",
      "Network Density        3.75E-02\n",
      "Number of Components   1\n",
      "Number of Warnings     0\n",
      "---------------------  ------------------------------------\n",
      "\n",
      "Type (3)      Count  Example\n",
      "----------  -------  ------------------------------------------------------------------\n",
      "Reaction         26  rxn(reactants(p(HGNC:6383 ! KNG1)), products(p(HGNC:6383 ! KNG1)))\n",
      "Protein          24  p(HGNC:3530 ! F12)\n",
      "Abundance         8  a(CHEBI:29105 ! \"zinc(2+)\")\n",
      "\n",
      "Namespace (4)      Count  Example\n",
      "---------------  -------  --------------------------------------------------\n",
      "HGNC                 101  p(HGNC:9451 ! PROC)\n",
      "TEXT                   5  a(TEXT:\"activated thrombin (factor IIa):SERPIND1\")\n",
      "CHEBI                  3  a(CHEBI:29108 ! \"calcium(2+)\")\n",
      "go                     1\n",
      "\n",
      "Edge Type (5)                           Count  Example\n",
      "------------------------------------  -------  --------------------------------------------------------------------------------------------------------------------------------------------\n",
      "Protein directlyIncreases Reaction         33  p(HGNC:3535 ! F2) directlyIncreases rxn(reactants(p(HGNC:3546 ! F8)), products(p(HGNC:12726 ! VWF), p(HGNC:12726 ! VWF), p(HGNC:3546 ! F8)))\n",
      "Abundance directlyIncreases Reaction       31  a(CHEBI:18085 ! glycosaminoglycan) directlyIncreases rxn(reactants(p(HGNC:3535 ! F2), p(HGNC:3535 ! F2)), products(p(HGNC:3535 ! F2)))\n",
      "Reaction hasProduct Protein                30  rxn(reactants(p(HGNC:3529 ! F11)), products(p(HGNC:3529 ! F11))) hasProduct p(HGNC:3529 ! F11)\n",
      "Reaction hasReactant Protein               29  rxn(reactants(p(HGNC:3528 ! F10)), products(p(HGNC:3528 ! F10), p(HGNC:3528 ! F10))) hasReactant p(HGNC:3528 ! F10)\n",
      "Protein hasVariant Protein                  1  p(HGNC:3541 ! F3) hasVariant p(HGNC:3541 ! F3, pmod(go:0018345 ! \"protein palmitoylation\", Cys, 277))\n",
      "\n"
     ]
    }
   ],
   "source": [
    "from indra.assemblers.pysb.assembler import PysbAssembler\n",
    "pyb = PybelAssembler(coagulation_cascade.statements)\n",
    "coagulation_bel = pyb.make_model()\n",
    "coagulation_bel.summarize()"
   ]
  },
  {
   "cell_type": "code",
   "execution_count": 9,
   "metadata": {},
   "outputs": [
    {
     "data": {
      "text/plain": [
       "False"
      ]
     },
     "execution_count": 9,
     "metadata": {},
     "output_type": "execute_result"
    }
   ],
   "source": [
    "coagulation_cascade.use_conversion_level_evidence"
   ]
  }
 ],
 "metadata": {
  "kernelspec": {
   "display_name": "anaconda3-2020.11",
   "language": "python",
   "name": "anaconda3-2020.11"
  },
  "language_info": {
   "codemirror_mode": {
    "name": "ipython",
    "version": 3
   },
   "file_extension": ".py",
   "mimetype": "text/x-python",
   "name": "python",
   "nbconvert_exporter": "python",
   "pygments_lexer": "ipython3",
   "version": "3.8.5"
  },
  "latex_envs": {
   "LaTeX_envs_menu_present": false,
   "autoclose": false,
   "autocomplete": false,
   "bibliofile": "biblio.bib",
   "cite_by": "apalike",
   "current_citInitial": 1,
   "eqLabelWithNumbers": true,
   "eqNumInitial": 1,
   "hotkeys": {
    "equation": "Ctrl-E",
    "itemize": "Ctrl-I"
   },
   "labels_anchors": false,
   "latex_user_defs": false,
   "report_style_numbering": true,
   "user_envs_cfg": false
  },
  "toc": {
   "base_numbering": 1,
   "nav_menu": {},
   "number_sections": true,
   "sideBar": true,
   "skip_h1_title": false,
   "title_cell": "Table of Contents",
   "title_sidebar": "Contents",
   "toc_cell": false,
   "toc_position": {},
   "toc_section_display": true,
   "toc_window_display": true
  }
 },
 "nbformat": 4,
 "nbformat_minor": 4
}
